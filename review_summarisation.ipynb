{
  "nbformat": 4,
  "nbformat_minor": 0,
  "metadata": {
    "colab": {
      "provenance": [],
      "gpuType": "T4",
      "authorship_tag": "ABX9TyOcsUwLfn634aSmCRiWVdYR",
      "include_colab_link": true
    },
    "kernelspec": {
      "name": "python3",
      "display_name": "Python 3"
    },
    "language_info": {
      "name": "python"
    },
    "accelerator": "GPU"
  },
  "cells": [
    {
      "cell_type": "markdown",
      "metadata": {
        "id": "view-in-github",
        "colab_type": "text"
      },
      "source": [
        "<a href=\"https://colab.research.google.com/github/KJanzon/project-nlp-business-case-automated-customers-reviews/blob/main/review_summarisation.ipynb\" target=\"_parent\"><img src=\"https://colab.research.google.com/assets/colab-badge.svg\" alt=\"Open In Colab\"/></a>"
      ]
    },
    {
      "cell_type": "code",
      "source": [
        "pip install python-dotenv\n"
      ],
      "metadata": {
        "colab": {
          "base_uri": "https://localhost:8080/"
        },
        "id": "k6C_Cnega0oJ",
        "outputId": "3d8083a0-44ec-4c34-bcd1-858c118057ee"
      },
      "execution_count": 35,
      "outputs": [
        {
          "output_type": "stream",
          "name": "stdout",
          "text": [
            "Collecting python-dotenv\n",
            "  Downloading python_dotenv-1.1.0-py3-none-any.whl.metadata (24 kB)\n",
            "Downloading python_dotenv-1.1.0-py3-none-any.whl (20 kB)\n",
            "Installing collected packages: python-dotenv\n",
            "Successfully installed python-dotenv-1.1.0\n"
          ]
        }
      ]
    },
    {
      "cell_type": "code",
      "source": [
        "!cp /content/drive/MyDrive/reviews-project/.env .\n",
        "!cp /content/drive/MyDrive/reviews-project/.gitignore ."
      ],
      "metadata": {
        "id": "O2Vn3GgGb6JN"
      },
      "execution_count": 44,
      "outputs": []
    },
    {
      "cell_type": "code",
      "source": [
        "\n",
        "def load_and_clean(file_path):\n",
        "    cols = [\n",
        "        \"id\",\n",
        "        \"name\",\n",
        "        \"brand\",\n",
        "        \"reviews.text\",\n",
        "        \"reviews.title\",\n",
        "        \"reviews.rating\",\n",
        "        \"mainCategory\"\n",
        "    ]\n",
        "\n",
        "    df = pd.read_csv(file_path, usecols=cols)\n",
        "\n",
        "    # Drop nulls\n",
        "    df = df.dropna(subset=[\"reviews.text\", \"reviews.rating\"])\n",
        "\n",
        "    # Map ratings to sentiment\n",
        "    def map_sentiment(rating):\n",
        "        if rating <= 3:\n",
        "            return \"negative\"\n",
        "        else:\n",
        "            return \"positive\"\n",
        "\n",
        "    df[\"sentiment\"] = df[\"reviews.rating\"].apply(map_sentiment)\n",
        "\n",
        "    # Drop exact duplicates if any\n",
        "    df = df.drop_duplicates(subset=[\"id\", \"reviews.text\"])\n",
        "\n",
        "    return df"
      ],
      "metadata": {
        "id": "K-D2cdqp7STw"
      },
      "execution_count": 3,
      "outputs": []
    },
    {
      "cell_type": "code",
      "execution_count": 2,
      "metadata": {
        "colab": {
          "base_uri": "https://localhost:8080/"
        },
        "id": "YXTDxzD86tor",
        "outputId": "37dcc006-04f4-4f10-adb3-21d7444df53c"
      },
      "outputs": [
        {
          "output_type": "stream",
          "name": "stdout",
          "text": [
            "Mounted at /content/drive\n"
          ]
        }
      ],
      "source": [
        "from google.colab import drive\n",
        "import pandas as pd\n",
        "\n",
        "drive.mount('/content/drive')\n",
        "\n",
        "\n",
        "df = load_and_clean(\"/content/drive/MyDrive/reviews-project/products_with_mainCategory.csv\")\n"
      ]
    },
    {
      "cell_type": "code",
      "source": [
        "print(df.shape)"
      ],
      "metadata": {
        "colab": {
          "base_uri": "https://localhost:8080/"
        },
        "id": "X8dzlVx_8Te_",
        "outputId": "f90000d8-cbb4-47e1-9bd3-0dd6f51747ee"
      },
      "execution_count": 4,
      "outputs": [
        {
          "output_type": "stream",
          "name": "stdout",
          "text": [
            "(29771, 8)\n"
          ]
        }
      ]
    },
    {
      "cell_type": "markdown",
      "source": [
        "Cleaning product name so that I don't compare the same product with different colours or other very minor variations.\n"
      ],
      "metadata": {
        "id": "2OWlEKC3Y92X"
      }
    },
    {
      "cell_type": "code",
      "source": [
        "import re\n",
        "\n",
        "\n",
        "def clean_product_name(name):\n",
        "    # Remove common variant patterns: color, GB, special offers, etc.\n",
        "    name = name.lower()\n",
        "    name = re.sub(r\"\\b\\d{1,3}\\s?gb\\b\", \"\", name)                    # Remove '16 GB' or '32GB'\n",
        "    name = re.sub(r\"\\bwith special offers\\b\", \"\", name)\n",
        "    name = re.sub(r\"\\bblack|blue|pink|magenta|tangerine|white\\b\", \"\", name)\n",
        "    name = re.sub(r\"\\s+\", \" \", name)                                # Remove extra spaces\n",
        "    return name.strip()\n"
      ],
      "metadata": {
        "id": "fI2sS-ggTJrh"
      },
      "execution_count": 20,
      "outputs": []
    },
    {
      "cell_type": "code",
      "source": [
        "#filter products to have at least 5 reviews\n",
        "min_reviews = 5\n",
        "product_reviews = (\n",
        "    df.groupby(['mainCategory', 'name'])\n",
        "    .filter(lambda x: len(x) >= min_reviews)\n",
        ")\n"
      ],
      "metadata": {
        "id": "Gb0W7vlo8djd"
      },
      "execution_count": 21,
      "outputs": []
    },
    {
      "cell_type": "code",
      "source": [
        "#per product; review count, average rating, string with all reviwes for the product\n",
        "\n",
        "summary_df = (\n",
        "    product_reviews.groupby(['mainCategory', 'name'])\n",
        "    .agg(\n",
        "        review_count=('reviews.text', 'count'),\n",
        "        avg_rating=('reviews.rating', 'mean'),\n",
        "        all_reviews=('reviews.text', lambda x: ' '.join(x))\n",
        "    )\n",
        "    .reset_index()\n",
        ")\n",
        "\n",
        "summary_df['all_reviews'] = summary_df['all_reviews'].apply(lambda x: x[:2000] if isinstance(x, str) else \"\")\n",
        "\n",
        "summary_df[\"base_name\"] = summary_df[\"name\"].apply(clean_product_name)\n"
      ],
      "metadata": {
        "id": "AZuEhZuf6iJY"
      },
      "execution_count": 22,
      "outputs": []
    },
    {
      "cell_type": "code",
      "source": [
        "#top 3 and worst product\n",
        "def get_top_and_worst(df, min_reviews=10):\n",
        "    df = df.copy()\n",
        "    df = df[df['review_count'] >= min_reviews]\n",
        "\n",
        "    if len(df) < 4:\n",
        "        return None, None\n",
        "\n",
        "    # Add base_name column if not already there\n",
        "    if 'base_name' not in df.columns:\n",
        "        df['base_name'] = df['name'].apply(clean_product_name)\n",
        "\n",
        "    # Group by base_name and take the best-rated item per group\n",
        "    distinct = df.sort_values('avg_rating', ascending=False)\n",
        "    distinct = distinct.drop_duplicates(subset='base_name', keep='first')\n",
        "\n",
        "    # Top 3 distinct products\n",
        "    top = distinct.head(3)\n",
        "\n",
        "    # Worst product (doesn't need to be distinct, just lowest-rated)\n",
        "    worst = df.sort_values('avg_rating', ascending=True).head(1)\n",
        "\n",
        "    return top, worst\n",
        "\n",
        "\n"
      ],
      "metadata": {
        "id": "ETQ1gdC17C0R"
      },
      "execution_count": 23,
      "outputs": []
    },
    {
      "cell_type": "markdown",
      "source": [
        "## Chatgpt 3.5 Model"
      ],
      "metadata": {
        "id": "gI1JkPOZ7QZU"
      }
    },
    {
      "cell_type": "code",
      "source": [
        "pip install openai\n"
      ],
      "metadata": {
        "colab": {
          "base_uri": "https://localhost:8080/"
        },
        "collapsed": true,
        "id": "JiBzx60WOpGn",
        "outputId": "ea3e7e66-0934-4d87-bba4-25e7e51c6ba0"
      },
      "execution_count": 8,
      "outputs": [
        {
          "output_type": "stream",
          "name": "stdout",
          "text": [
            "Requirement already satisfied: openai in /usr/local/lib/python3.11/dist-packages (1.68.2)\n",
            "Requirement already satisfied: anyio<5,>=3.5.0 in /usr/local/lib/python3.11/dist-packages (from openai) (4.9.0)\n",
            "Requirement already satisfied: distro<2,>=1.7.0 in /usr/local/lib/python3.11/dist-packages (from openai) (1.9.0)\n",
            "Requirement already satisfied: httpx<1,>=0.23.0 in /usr/local/lib/python3.11/dist-packages (from openai) (0.28.1)\n",
            "Requirement already satisfied: jiter<1,>=0.4.0 in /usr/local/lib/python3.11/dist-packages (from openai) (0.9.0)\n",
            "Requirement already satisfied: pydantic<3,>=1.9.0 in /usr/local/lib/python3.11/dist-packages (from openai) (2.10.6)\n",
            "Requirement already satisfied: sniffio in /usr/local/lib/python3.11/dist-packages (from openai) (1.3.1)\n",
            "Requirement already satisfied: tqdm>4 in /usr/local/lib/python3.11/dist-packages (from openai) (4.67.1)\n",
            "Requirement already satisfied: typing-extensions<5,>=4.11 in /usr/local/lib/python3.11/dist-packages (from openai) (4.12.2)\n",
            "Requirement already satisfied: idna>=2.8 in /usr/local/lib/python3.11/dist-packages (from anyio<5,>=3.5.0->openai) (3.10)\n",
            "Requirement already satisfied: certifi in /usr/local/lib/python3.11/dist-packages (from httpx<1,>=0.23.0->openai) (2025.1.31)\n",
            "Requirement already satisfied: httpcore==1.* in /usr/local/lib/python3.11/dist-packages (from httpx<1,>=0.23.0->openai) (1.0.7)\n",
            "Requirement already satisfied: h11<0.15,>=0.13 in /usr/local/lib/python3.11/dist-packages (from httpcore==1.*->httpx<1,>=0.23.0->openai) (0.14.0)\n",
            "Requirement already satisfied: annotated-types>=0.6.0 in /usr/local/lib/python3.11/dist-packages (from pydantic<3,>=1.9.0->openai) (0.7.0)\n",
            "Requirement already satisfied: pydantic-core==2.27.2 in /usr/local/lib/python3.11/dist-packages (from pydantic<3,>=1.9.0->openai) (2.27.2)\n"
          ]
        }
      ]
    },
    {
      "cell_type": "code",
      "source": [
        "pip install tiktoken"
      ],
      "metadata": {
        "colab": {
          "base_uri": "https://localhost:8080/"
        },
        "collapsed": true,
        "id": "8uBHwSqRgjqS",
        "outputId": "54be2ae4-b9f3-4637-d736-62f74a82b992"
      },
      "execution_count": 9,
      "outputs": [
        {
          "output_type": "stream",
          "name": "stdout",
          "text": [
            "Collecting tiktoken\n",
            "  Downloading tiktoken-0.9.0-cp311-cp311-manylinux_2_17_x86_64.manylinux2014_x86_64.whl.metadata (6.7 kB)\n",
            "Requirement already satisfied: regex>=2022.1.18 in /usr/local/lib/python3.11/dist-packages (from tiktoken) (2024.11.6)\n",
            "Requirement already satisfied: requests>=2.26.0 in /usr/local/lib/python3.11/dist-packages (from tiktoken) (2.32.3)\n",
            "Requirement already satisfied: charset-normalizer<4,>=2 in /usr/local/lib/python3.11/dist-packages (from requests>=2.26.0->tiktoken) (3.4.1)\n",
            "Requirement already satisfied: idna<4,>=2.5 in /usr/local/lib/python3.11/dist-packages (from requests>=2.26.0->tiktoken) (3.10)\n",
            "Requirement already satisfied: urllib3<3,>=1.21.1 in /usr/local/lib/python3.11/dist-packages (from requests>=2.26.0->tiktoken) (2.3.0)\n",
            "Requirement already satisfied: certifi>=2017.4.17 in /usr/local/lib/python3.11/dist-packages (from requests>=2.26.0->tiktoken) (2025.1.31)\n",
            "Downloading tiktoken-0.9.0-cp311-cp311-manylinux_2_17_x86_64.manylinux2014_x86_64.whl (1.2 MB)\n",
            "\u001b[?25l   \u001b[90m━━━━━━━━━━━━━━━━━━━━━━━━━━━━━━━━━━━━━━━━\u001b[0m \u001b[32m0.0/1.2 MB\u001b[0m \u001b[31m?\u001b[0m eta \u001b[36m-:--:--\u001b[0m\r\u001b[2K   \u001b[91m━━━━━━━━━━━━\u001b[0m\u001b[90m╺\u001b[0m\u001b[90m━━━━━━━━━━━━━━━━━━━━━━━━━━━\u001b[0m \u001b[32m0.4/1.2 MB\u001b[0m \u001b[31m10.7 MB/s\u001b[0m eta \u001b[36m0:00:01\u001b[0m\r\u001b[2K   \u001b[90m━━━━━━━━━━━━━━━━━━━━━━━━━━━━━━━━━━━━━━━━\u001b[0m \u001b[32m1.2/1.2 MB\u001b[0m \u001b[31m17.4 MB/s\u001b[0m eta \u001b[36m0:00:00\u001b[0m\n",
            "\u001b[?25hInstalling collected packages: tiktoken\n",
            "Successfully installed tiktoken-0.9.0\n"
          ]
        }
      ]
    },
    {
      "cell_type": "code",
      "source": [
        "from openai import OpenAI\n",
        "from dotenv import load_dotenv\n",
        "import os\n",
        "\n",
        "# Load from .env file\n",
        "load_dotenv()\n",
        "\n",
        "api_key = os.getenv(\"OPENAI_API_KEY\")\n",
        "client = OpenAI(api_key=api_key)\n"
      ],
      "metadata": {
        "id": "JApinrtvOsL6"
      },
      "execution_count": 45,
      "outputs": []
    },
    {
      "cell_type": "code",
      "source": [
        "def build_gpt_prompt_from_reviews(category, top_df, worst_df, max_tokens_per_product=1000):\n",
        "    prompt = f\"\"\"\n",
        "You are a professional product review writer creating a blog-style article for a tech-savvy audience (like The Verge or Wirecutter).\n",
        "\n",
        "Your task is to:\n",
        "- Compare the **top 3 Amazon {category.lower()}s** based on real customer feedback\n",
        "- Include a short, informative paragraph for each product:\n",
        "    - What customers liked ✅\n",
        "    - What customers complained about ❌\n",
        "    - What makes it unique\n",
        "- Add 2 bullet points at the end of each paragraph:\n",
        "    - **Pros**\n",
        "    - **Cons**\n",
        "- Finish with a final paragraph about the **worst-rated {category.lower()}**, including:\n",
        "    - Why it scored lower\n",
        "    - What users complained about\n",
        "    - Why readers should consider avoiding it\n",
        "\n",
        "Write in a clear, helpful, and slightly conversational tone. Format the article using markdown with product names as headings.\n",
        "\n",
        "Here are the reviews:\n",
        "\"\"\"\n",
        "\n",
        "    # Add top 3 products\n",
        "    for i, row in top_df.iterrows():\n",
        "        name = row['name']\n",
        "        rating = row['avg_rating']\n",
        "        reviews = safe_truncate(row['all_reviews'], max_tokens=max_tokens_per_product)\n",
        "        prompt += f\"\\n### {i+1}. {name} (Rating: {rating:.2f})\\n{reviews}\\n\"\n",
        "\n",
        "    # Add worst product\n",
        "    worst_row = worst_df.iloc[0]\n",
        "    name = worst_row['name']\n",
        "    rating = worst_row['avg_rating']\n",
        "    reviews = safe_truncate(worst_row['all_reviews'], max_tokens=max_tokens_per_product)\n",
        "    prompt += f\"\\n### Worst Product: {name} (Rating: {rating:.2f})\\n{reviews}\\n\"\n",
        "\n",
        "    return prompt\n"
      ],
      "metadata": {
        "id": "vBLIWKsQcgd5"
      },
      "execution_count": 25,
      "outputs": []
    },
    {
      "cell_type": "code",
      "source": [
        "\n",
        "import tiktoken\n",
        "\n",
        "def safe_truncate(text: str, max_tokens: int, model: str = \"gpt-3.5-turbo\") -> str:\n",
        "    enc = tiktoken.encoding_for_model(model)\n",
        "    tokens = enc.encode(text)\n",
        "    tokens = tokens[:max_tokens]\n",
        "    return enc.decode(tokens)\n",
        "\n"
      ],
      "metadata": {
        "id": "QawerBLAfTt2"
      },
      "execution_count": 26,
      "outputs": []
    },
    {
      "cell_type": "code",
      "source": [
        "from openai import OpenAI\n",
        "\n",
        "\n",
        "def generate_article(prompt):\n",
        "    response = client.chat.completions.create(\n",
        "        model=\"gpt-3.5-turbo\",\n",
        "        messages=[{\"role\": \"user\", \"content\": prompt}],\n",
        "        temperature=0.7\n",
        "    )\n",
        "    return response.choices[0].message.content\n"
      ],
      "metadata": {
        "id": "CPQOAQ8Gc8JN"
      },
      "execution_count": 27,
      "outputs": []
    },
    {
      "cell_type": "code",
      "source": [
        "product_counts = summary_df.groupby(\"mainCategory\")['name'].nunique().sort_values()\n",
        "print(\"📊 Product count per category:\\n\")\n",
        "print(product_counts)"
      ],
      "metadata": {
        "colab": {
          "base_uri": "https://localhost:8080/"
        },
        "id": "uQTAo5sO_Amw",
        "outputId": "ac00502e-ec0e-49f9-a8af-5b94fc45ce3f"
      },
      "execution_count": 14,
      "outputs": [
        {
          "output_type": "stream",
          "name": "stdout",
          "text": [
            "📊 Product count per category:\n",
            "\n",
            "mainCategory\n",
            "Batteries         2\n",
            "Accessories       4\n",
            "Smart Speaker     7\n",
            "Other             8\n",
            "E-reader         14\n",
            "Tablet           26\n",
            "Name: name, dtype: int64\n"
          ]
        }
      ]
    },
    {
      "cell_type": "code",
      "source": [
        "smart_speakers = summary_df[summary_df[\"mainCategory\"] == \"Other\"]\n",
        "\n",
        "# Show all available columns (name, review_count, avg_rating, etc.)\n",
        "print(f\"🔊 Smart Speaker Products ({len(smart_speakers)} found):\\n\")\n",
        "display(smart_speakers[['name', 'review_count', 'avg_rating']].sort_values(by='review_count', ascending=False))\n"
      ],
      "metadata": {
        "colab": {
          "base_uri": "https://localhost:8080/",
          "height": 336
        },
        "id": "UM6INCyEAlgI",
        "outputId": "f8a172fa-b6cc-41b8-d80c-ee267b48fff3"
      },
      "execution_count": 15,
      "outputs": [
        {
          "output_type": "stream",
          "name": "stdout",
          "text": [
            "🔊 Smart Speaker Products (8 found):\n",
            "\n"
          ]
        },
        {
          "output_type": "display_data",
          "data": {
            "text/plain": [
              "                                                 name  review_count  \\\n",
              "22  AmazonBasics Backpack for Laptops up to 17-inches            25   \n",
              "20       AmazonBasics 15.6-Inch Laptop and Tablet Bag            21   \n",
              "26  Expanding Accordion File Folder Plastic Portab...             9   \n",
              "25    AmazonBasics Ventilated Adjustable Laptop Stand             8   \n",
              "24              AmazonBasics External Hard Drive Case             6   \n",
              "23  AmazonBasics Bluetooth Keyboard for Android De...             6   \n",
              "27      Fire TV Stick Streaming Media Player Pair Kit             6   \n",
              "21      AmazonBasics 16-Gauge Speaker Wire - 100 Feet             5   \n",
              "\n",
              "    avg_rating  \n",
              "22    4.160000  \n",
              "20    4.523810  \n",
              "26    5.000000  \n",
              "25    4.000000  \n",
              "24    4.500000  \n",
              "23    4.333333  \n",
              "27    5.000000  \n",
              "21    5.000000  "
            ],
            "text/html": [
              "\n",
              "  <div id=\"df-4dfbe638-0900-46a2-aefd-7c5506c47ea3\" class=\"colab-df-container\">\n",
              "    <div>\n",
              "<style scoped>\n",
              "    .dataframe tbody tr th:only-of-type {\n",
              "        vertical-align: middle;\n",
              "    }\n",
              "\n",
              "    .dataframe tbody tr th {\n",
              "        vertical-align: top;\n",
              "    }\n",
              "\n",
              "    .dataframe thead th {\n",
              "        text-align: right;\n",
              "    }\n",
              "</style>\n",
              "<table border=\"1\" class=\"dataframe\">\n",
              "  <thead>\n",
              "    <tr style=\"text-align: right;\">\n",
              "      <th></th>\n",
              "      <th>name</th>\n",
              "      <th>review_count</th>\n",
              "      <th>avg_rating</th>\n",
              "    </tr>\n",
              "  </thead>\n",
              "  <tbody>\n",
              "    <tr>\n",
              "      <th>22</th>\n",
              "      <td>AmazonBasics Backpack for Laptops up to 17-inches</td>\n",
              "      <td>25</td>\n",
              "      <td>4.160000</td>\n",
              "    </tr>\n",
              "    <tr>\n",
              "      <th>20</th>\n",
              "      <td>AmazonBasics 15.6-Inch Laptop and Tablet Bag</td>\n",
              "      <td>21</td>\n",
              "      <td>4.523810</td>\n",
              "    </tr>\n",
              "    <tr>\n",
              "      <th>26</th>\n",
              "      <td>Expanding Accordion File Folder Plastic Portab...</td>\n",
              "      <td>9</td>\n",
              "      <td>5.000000</td>\n",
              "    </tr>\n",
              "    <tr>\n",
              "      <th>25</th>\n",
              "      <td>AmazonBasics Ventilated Adjustable Laptop Stand</td>\n",
              "      <td>8</td>\n",
              "      <td>4.000000</td>\n",
              "    </tr>\n",
              "    <tr>\n",
              "      <th>24</th>\n",
              "      <td>AmazonBasics External Hard Drive Case</td>\n",
              "      <td>6</td>\n",
              "      <td>4.500000</td>\n",
              "    </tr>\n",
              "    <tr>\n",
              "      <th>23</th>\n",
              "      <td>AmazonBasics Bluetooth Keyboard for Android De...</td>\n",
              "      <td>6</td>\n",
              "      <td>4.333333</td>\n",
              "    </tr>\n",
              "    <tr>\n",
              "      <th>27</th>\n",
              "      <td>Fire TV Stick Streaming Media Player Pair Kit</td>\n",
              "      <td>6</td>\n",
              "      <td>5.000000</td>\n",
              "    </tr>\n",
              "    <tr>\n",
              "      <th>21</th>\n",
              "      <td>AmazonBasics 16-Gauge Speaker Wire - 100 Feet</td>\n",
              "      <td>5</td>\n",
              "      <td>5.000000</td>\n",
              "    </tr>\n",
              "  </tbody>\n",
              "</table>\n",
              "</div>\n",
              "    <div class=\"colab-df-buttons\">\n",
              "\n",
              "  <div class=\"colab-df-container\">\n",
              "    <button class=\"colab-df-convert\" onclick=\"convertToInteractive('df-4dfbe638-0900-46a2-aefd-7c5506c47ea3')\"\n",
              "            title=\"Convert this dataframe to an interactive table.\"\n",
              "            style=\"display:none;\">\n",
              "\n",
              "  <svg xmlns=\"http://www.w3.org/2000/svg\" height=\"24px\" viewBox=\"0 -960 960 960\">\n",
              "    <path d=\"M120-120v-720h720v720H120Zm60-500h600v-160H180v160Zm220 220h160v-160H400v160Zm0 220h160v-160H400v160ZM180-400h160v-160H180v160Zm440 0h160v-160H620v160ZM180-180h160v-160H180v160Zm440 0h160v-160H620v160Z\"/>\n",
              "  </svg>\n",
              "    </button>\n",
              "\n",
              "  <style>\n",
              "    .colab-df-container {\n",
              "      display:flex;\n",
              "      gap: 12px;\n",
              "    }\n",
              "\n",
              "    .colab-df-convert {\n",
              "      background-color: #E8F0FE;\n",
              "      border: none;\n",
              "      border-radius: 50%;\n",
              "      cursor: pointer;\n",
              "      display: none;\n",
              "      fill: #1967D2;\n",
              "      height: 32px;\n",
              "      padding: 0 0 0 0;\n",
              "      width: 32px;\n",
              "    }\n",
              "\n",
              "    .colab-df-convert:hover {\n",
              "      background-color: #E2EBFA;\n",
              "      box-shadow: 0px 1px 2px rgba(60, 64, 67, 0.3), 0px 1px 3px 1px rgba(60, 64, 67, 0.15);\n",
              "      fill: #174EA6;\n",
              "    }\n",
              "\n",
              "    .colab-df-buttons div {\n",
              "      margin-bottom: 4px;\n",
              "    }\n",
              "\n",
              "    [theme=dark] .colab-df-convert {\n",
              "      background-color: #3B4455;\n",
              "      fill: #D2E3FC;\n",
              "    }\n",
              "\n",
              "    [theme=dark] .colab-df-convert:hover {\n",
              "      background-color: #434B5C;\n",
              "      box-shadow: 0px 1px 3px 1px rgba(0, 0, 0, 0.15);\n",
              "      filter: drop-shadow(0px 1px 2px rgba(0, 0, 0, 0.3));\n",
              "      fill: #FFFFFF;\n",
              "    }\n",
              "  </style>\n",
              "\n",
              "    <script>\n",
              "      const buttonEl =\n",
              "        document.querySelector('#df-4dfbe638-0900-46a2-aefd-7c5506c47ea3 button.colab-df-convert');\n",
              "      buttonEl.style.display =\n",
              "        google.colab.kernel.accessAllowed ? 'block' : 'none';\n",
              "\n",
              "      async function convertToInteractive(key) {\n",
              "        const element = document.querySelector('#df-4dfbe638-0900-46a2-aefd-7c5506c47ea3');\n",
              "        const dataTable =\n",
              "          await google.colab.kernel.invokeFunction('convertToInteractive',\n",
              "                                                    [key], {});\n",
              "        if (!dataTable) return;\n",
              "\n",
              "        const docLinkHtml = 'Like what you see? Visit the ' +\n",
              "          '<a target=\"_blank\" href=https://colab.research.google.com/notebooks/data_table.ipynb>data table notebook</a>'\n",
              "          + ' to learn more about interactive tables.';\n",
              "        element.innerHTML = '';\n",
              "        dataTable['output_type'] = 'display_data';\n",
              "        await google.colab.output.renderOutput(dataTable, element);\n",
              "        const docLink = document.createElement('div');\n",
              "        docLink.innerHTML = docLinkHtml;\n",
              "        element.appendChild(docLink);\n",
              "      }\n",
              "    </script>\n",
              "  </div>\n",
              "\n",
              "\n",
              "<div id=\"df-b0ec5cd7-e01f-4e75-81eb-1195ee8bfd7e\">\n",
              "  <button class=\"colab-df-quickchart\" onclick=\"quickchart('df-b0ec5cd7-e01f-4e75-81eb-1195ee8bfd7e')\"\n",
              "            title=\"Suggest charts\"\n",
              "            style=\"display:none;\">\n",
              "\n",
              "<svg xmlns=\"http://www.w3.org/2000/svg\" height=\"24px\"viewBox=\"0 0 24 24\"\n",
              "     width=\"24px\">\n",
              "    <g>\n",
              "        <path d=\"M19 3H5c-1.1 0-2 .9-2 2v14c0 1.1.9 2 2 2h14c1.1 0 2-.9 2-2V5c0-1.1-.9-2-2-2zM9 17H7v-7h2v7zm4 0h-2V7h2v10zm4 0h-2v-4h2v4z\"/>\n",
              "    </g>\n",
              "</svg>\n",
              "  </button>\n",
              "\n",
              "<style>\n",
              "  .colab-df-quickchart {\n",
              "      --bg-color: #E8F0FE;\n",
              "      --fill-color: #1967D2;\n",
              "      --hover-bg-color: #E2EBFA;\n",
              "      --hover-fill-color: #174EA6;\n",
              "      --disabled-fill-color: #AAA;\n",
              "      --disabled-bg-color: #DDD;\n",
              "  }\n",
              "\n",
              "  [theme=dark] .colab-df-quickchart {\n",
              "      --bg-color: #3B4455;\n",
              "      --fill-color: #D2E3FC;\n",
              "      --hover-bg-color: #434B5C;\n",
              "      --hover-fill-color: #FFFFFF;\n",
              "      --disabled-bg-color: #3B4455;\n",
              "      --disabled-fill-color: #666;\n",
              "  }\n",
              "\n",
              "  .colab-df-quickchart {\n",
              "    background-color: var(--bg-color);\n",
              "    border: none;\n",
              "    border-radius: 50%;\n",
              "    cursor: pointer;\n",
              "    display: none;\n",
              "    fill: var(--fill-color);\n",
              "    height: 32px;\n",
              "    padding: 0;\n",
              "    width: 32px;\n",
              "  }\n",
              "\n",
              "  .colab-df-quickchart:hover {\n",
              "    background-color: var(--hover-bg-color);\n",
              "    box-shadow: 0 1px 2px rgba(60, 64, 67, 0.3), 0 1px 3px 1px rgba(60, 64, 67, 0.15);\n",
              "    fill: var(--button-hover-fill-color);\n",
              "  }\n",
              "\n",
              "  .colab-df-quickchart-complete:disabled,\n",
              "  .colab-df-quickchart-complete:disabled:hover {\n",
              "    background-color: var(--disabled-bg-color);\n",
              "    fill: var(--disabled-fill-color);\n",
              "    box-shadow: none;\n",
              "  }\n",
              "\n",
              "  .colab-df-spinner {\n",
              "    border: 2px solid var(--fill-color);\n",
              "    border-color: transparent;\n",
              "    border-bottom-color: var(--fill-color);\n",
              "    animation:\n",
              "      spin 1s steps(1) infinite;\n",
              "  }\n",
              "\n",
              "  @keyframes spin {\n",
              "    0% {\n",
              "      border-color: transparent;\n",
              "      border-bottom-color: var(--fill-color);\n",
              "      border-left-color: var(--fill-color);\n",
              "    }\n",
              "    20% {\n",
              "      border-color: transparent;\n",
              "      border-left-color: var(--fill-color);\n",
              "      border-top-color: var(--fill-color);\n",
              "    }\n",
              "    30% {\n",
              "      border-color: transparent;\n",
              "      border-left-color: var(--fill-color);\n",
              "      border-top-color: var(--fill-color);\n",
              "      border-right-color: var(--fill-color);\n",
              "    }\n",
              "    40% {\n",
              "      border-color: transparent;\n",
              "      border-right-color: var(--fill-color);\n",
              "      border-top-color: var(--fill-color);\n",
              "    }\n",
              "    60% {\n",
              "      border-color: transparent;\n",
              "      border-right-color: var(--fill-color);\n",
              "    }\n",
              "    80% {\n",
              "      border-color: transparent;\n",
              "      border-right-color: var(--fill-color);\n",
              "      border-bottom-color: var(--fill-color);\n",
              "    }\n",
              "    90% {\n",
              "      border-color: transparent;\n",
              "      border-bottom-color: var(--fill-color);\n",
              "    }\n",
              "  }\n",
              "</style>\n",
              "\n",
              "  <script>\n",
              "    async function quickchart(key) {\n",
              "      const quickchartButtonEl =\n",
              "        document.querySelector('#' + key + ' button');\n",
              "      quickchartButtonEl.disabled = true;  // To prevent multiple clicks.\n",
              "      quickchartButtonEl.classList.add('colab-df-spinner');\n",
              "      try {\n",
              "        const charts = await google.colab.kernel.invokeFunction(\n",
              "            'suggestCharts', [key], {});\n",
              "      } catch (error) {\n",
              "        console.error('Error during call to suggestCharts:', error);\n",
              "      }\n",
              "      quickchartButtonEl.classList.remove('colab-df-spinner');\n",
              "      quickchartButtonEl.classList.add('colab-df-quickchart-complete');\n",
              "    }\n",
              "    (() => {\n",
              "      let quickchartButtonEl =\n",
              "        document.querySelector('#df-b0ec5cd7-e01f-4e75-81eb-1195ee8bfd7e button');\n",
              "      quickchartButtonEl.style.display =\n",
              "        google.colab.kernel.accessAllowed ? 'block' : 'none';\n",
              "    })();\n",
              "  </script>\n",
              "</div>\n",
              "\n",
              "    </div>\n",
              "  </div>\n"
            ],
            "application/vnd.google.colaboratory.intrinsic+json": {
              "type": "dataframe",
              "summary": "{\n  \"name\": \"display(smart_speakers[['name', 'review_count', 'avg_rating']]\",\n  \"rows\": 8,\n  \"fields\": [\n    {\n      \"column\": \"name\",\n      \"properties\": {\n        \"dtype\": \"string\",\n        \"num_unique_values\": 8,\n        \"samples\": [\n          \"AmazonBasics 15.6-Inch Laptop and Tablet Bag\",\n          \"AmazonBasics Bluetooth Keyboard for Android Devices - Black\",\n          \"AmazonBasics Backpack for Laptops up to 17-inches\"\n        ],\n        \"semantic_type\": \"\",\n        \"description\": \"\"\n      }\n    },\n    {\n      \"column\": \"review_count\",\n      \"properties\": {\n        \"dtype\": \"number\",\n        \"std\": 7,\n        \"min\": 5,\n        \"max\": 25,\n        \"num_unique_values\": 6,\n        \"samples\": [\n          25,\n          21,\n          5\n        ],\n        \"semantic_type\": \"\",\n        \"description\": \"\"\n      }\n    },\n    {\n      \"column\": \"avg_rating\",\n      \"properties\": {\n        \"dtype\": \"number\",\n        \"std\": 0.39830266298114114,\n        \"min\": 4.0,\n        \"max\": 5.0,\n        \"num_unique_values\": 6,\n        \"samples\": [\n          4.16,\n          4.523809523809524,\n          4.333333333333333\n        ],\n        \"semantic_type\": \"\",\n        \"description\": \"\"\n      }\n    }\n  ]\n}"
            }
          },
          "metadata": {}
        }
      ]
    },
    {
      "cell_type": "code",
      "source": [
        "test_df = summary_df[summary_df['mainCategory'] == \"Tablet\"]\n",
        "top, worst = get_top_and_worst(test_df)\n",
        "prompt = build_gpt_prompt_from_reviews(\"Tablet\", top, worst)\n",
        "print(f\"\\n -- Prompt: {prompt[:2000]}\")  # preview prompt\n",
        "\n",
        "article = generate_article(prompt)\n",
        "print(f\"\\n -- Article: {article}\")"
      ],
      "metadata": {
        "colab": {
          "base_uri": "https://localhost:8080/"
        },
        "collapsed": true,
        "id": "cMqZaiN2dGBZ",
        "outputId": "d5c5b963-f608-4569-a2d3-79f243f92de8"
      },
      "execution_count": 28,
      "outputs": [
        {
          "output_type": "stream",
          "name": "stdout",
          "text": [
            "\n",
            " -- Prompt: \n",
            "You are a professional product review writer creating a blog-style article for a tech-savvy audience (like The Verge or Wirecutter).\n",
            "\n",
            "Your task is to:\n",
            "- Compare the **top 3 Amazon tablets** based on real customer feedback\n",
            "- Include a short, informative paragraph for each product:\n",
            "    - What customers liked ✅\n",
            "    - What customers complained about ❌\n",
            "    - What makes it unique\n",
            "- Add 2 bullet points at the end of each paragraph:\n",
            "    - **Pros**\n",
            "    - **Cons**\n",
            "- Finish with a final paragraph about the **worst-rated tablet**, including:\n",
            "    - Why it scored lower\n",
            "    - What users complained about\n",
            "    - Why readers should consider avoiding it\n",
            "\n",
            "Write in a clear, helpful, and slightly conversational tone. Format the article using markdown with product names as headings.\n",
            "\n",
            "Here are the reviews:\n",
            "\n",
            "### 38. All-New Fire HD 8 Kids Edition Tablet, 8 HD Display, 32 GB, Pink Kid-Proof Case (Rating: 4.64)\n",
            "Purchase this Amazon - Fire HD 8 Kids Edition for my 2 year old grand daughter. She can watch her kid's videos now on her own device. She is learning to pick the videos she wants to watch. Her parents love it as well. Now it frees up their smart phones for their use. I purchased the 7\" for my son when he was 1.5 years old, that one broke and while waiting for the replacement they came out with a 16gb version which I got him, he loved it. I now just saw the 8\" with stereo and more memory. He is almost 3, and plays a lot of learning games, for numbers letters, puzzles and more. Remember this is for kids, and things like Alexa are not important and I don't want my kid having that option anyway. This tablet with the lesser price tag than a appple ipad is far less worry fora 3 yr old to have and own to watch with you while you both are together on the couch at night, a must for a first time tablet owner who has a young child. Who‚Äôs addicted to your own apple tablet. I have been wanting to get a tablet for my grandson. However his mother insisted on waiting till he was older. Recently he h\n",
            "\n",
            " -- Article: # All-New Fire HD 8 Kids Edition Tablet\n",
            "Customers liked:\n",
            "- Kid-friendly interface for easy use\n",
            "- Parental controls for age-appropriate content\n",
            "- Durable design with a 2-year warranty\n",
            "\n",
            "**Pros**\n",
            "- Designed specifically for kids\n",
            "- Parental controls are customizable\n",
            "\n",
            "**Cons**\n",
            "- Some features may be limited for adult use\n",
            "- Limited compared to regular Fire HD tablets\n",
            "\n",
            "# Amazon Fire HD 8 with Alexa\n",
            "Customers liked:\n",
            "- Affordable price with great value\n",
            "- Good display and photo quality\n",
            "- Easy to install Google Playstore for more apps\n",
            "\n",
            "**Pros**\n",
            "- Inexpensive tablet with useful features\n",
            "- Allows Google apps to coexist\n",
            "\n",
            "**Cons**\n",
            "- Some features require additional membership fees\n",
            "- Limited app selection\n",
            "\n",
            "# All-New Fire HD 8 Tablet with Alexa\n",
            "Customers liked:\n",
            "- Fast and reliable internet connection\n",
            "- Crisp HD display with extended battery life\n",
            "- Easy to use for all ages\n",
            "\n",
            "**Pros**\n",
            "- Great value for the price\n",
            "- Long battery life for extended use\n",
            "\n",
            "**Cons**\n",
            "- Limited app store compared to other brands\n",
            "- May not be suitable for advanced users\n",
            "\n",
            "### Worst Product: Brand New Amazon Kindle Fire 16gb 7\" Ips Display Tablet Wifi 16 Gb Blue\n",
            "This tablet scored lower due to its limited compatibility and battery life issues. Users complained about the limited app selection and the need for frequent recharging. The proprietary nature of the device also hindered the installation of desired apps. Readers should consider avoiding this tablet if they require a wide range of app options and longer battery life.\n"
          ]
        }
      ]
    },
    {
      "cell_type": "code",
      "source": [
        "#generate article by category\n",
        "\n",
        "all_summaries = []\n",
        "\n",
        "categories = summary_df['mainCategory'].unique()\n",
        "\n",
        "for cat in categories:\n",
        "    cat_df = summary_df[summary_df['mainCategory'] == cat]\n",
        "    top, worst = get_top_and_worst(cat_df)\n",
        "\n",
        "    # Skip if there aren't enough products\n",
        "    if top is None or worst is None:\n",
        "        print(f\"\\n⚠️ Skipping category '{cat}' due to insufficient data.\")\n",
        "        continue\n",
        "\n",
        "    prompt = build_gpt_prompt_from_reviews(cat, top, worst)\n",
        "\n",
        "     # Optional: Preview what you're sending\n",
        "    #print(f\"\\n🧠 [{cat}] Prompt preview:\\n{prompt[:500]}...\\n\")\n",
        "\n",
        "        # Generate article using ChatGPT API\n",
        "    article = generate_article(prompt)\n",
        "\n",
        "    print(f\"\\n📝 === Blog Summary for Category: {cat} ===\\n\")\n",
        "    print(article)\n",
        "\n",
        "  # Store in a list for optional saving\n",
        "    all_summaries.append({\n",
        "        \"category\": cat,\n",
        "        \"article\": article,\n",
        "        \"top_products\": top[\"name\"].tolist(),\n",
        "        \"worst_product\": worst[\"name\"].values[0],\n",
        "    })"
      ],
      "metadata": {
        "colab": {
          "base_uri": "https://localhost:8080/"
        },
        "id": "rmguEchlVX3p",
        "outputId": "01e31b74-0b17-4287-d4e7-0d4c9d1ea240"
      },
      "execution_count": 32,
      "outputs": [
        {
          "output_type": "stream",
          "name": "stdout",
          "text": [
            "\n",
            "⚠️ Skipping category 'Accessories' due to insufficient data.\n",
            "\n",
            "⚠️ Skipping category 'Batteries' due to insufficient data.\n",
            "\n",
            "📝 === Blog Summary for Category: E-reader ===\n",
            "\n",
            "# Kindle Voyage E-reader, 6 High-Resolution Display (300 ppi) with Adaptive Built-in Light, PagePress Sensors, Free 3G + Wi-Fi\n",
            "\n",
            "Customers have praised the Kindle Voyage for its exceptional reading experience akin to a real book. The adaptive built-in light makes it easy to read in various lighting conditions, while the 3G connectivity allows for on-the-go book downloads. The device's portability, direct sun readability, and long battery life have also been highlighted.\n",
            "\n",
            "**Pros**\n",
            "- Real book-like reading experience\n",
            "- Exceptional direct sun readability\n",
            "\n",
            "**Cons**\n",
            "- Sensitive touch controls\n",
            "- Experimental web browser\n",
            "\n",
            "# Kindle Voyage E-reader, 6 High-Resolution Display (300 ppi) with Adaptive Built-in Light, PagePress Sensors, Wi-Fi\n",
            "\n",
            "Users appreciate the Kindle Voyage's lightweight design and readable e-ink display. The page turn \"buttons\" on the bezel and improved screen clarity have been standout features. Despite some minor issues with page navigation, customers have found the device to be a top-notch e-reader with a stylish, minimal design.\n",
            "\n",
            "**Pros**\n",
            "- Lightweight design\n",
            "- Improved screen clarity\n",
            "\n",
            "**Cons**\n",
            "- Inconsistent page navigation\n",
            "- Pricey for some users\n",
            "\n",
            "# Amazon - Kindle Voyage - 6\" - 4GB - Black\n",
            "\n",
            "The Kindle Voyage has been lauded for offering the best reading experience with its sleek design and quality screen. Customers have found the ambient light sensor and form factor to be appealing, although some felt the price difference compared to the Paperwhite was not justified. Overall, the Voyage stands out for its quality light and user-friendly interface.\n",
            "\n",
            "**Pros**\n",
            "- Quality screen\n",
            "- Ambient light sensor\n",
            "\n",
            "**Cons**\n",
            "- Pricey compared to other models\n",
            "- Page turn locations can be inconvenient\n",
            "\n",
            "## Worst Product: Amazon Kindle E-Reader 6\" Wifi (8th Generation, 2016)\n",
            "\n",
            "The Amazon Kindle E-Reader 6\" Wifi (8th Generation) scored lower due to its smaller screen size and lack of comfort for reading. Users have complained about the device feeling cramped and not being as user-friendly as other models. While it serves its purpose as a basic e-reader, the lack of a brighter screen and limited functionality make it less appealing compared to other Kindle options.\n",
            "\n",
            "**Reason for lower score**\n",
            "- Small screen size\n",
            "- Lack of comfort for reading\n",
            "\n",
            "**Users complaints**\n",
            "- Device feels cramped\n",
            "- Screen is not bright enough\n",
            "\n",
            "**Why readers should avoid it:** \n",
            "Considering the limitations in screen brightness and comfort for reading, users looking for a more user-friendly and feature-rich e-reader experience may want to explore other Kindle models for a better overall reading experience.\n",
            "\n",
            "⚠️ Skipping category 'Other' due to insufficient data.\n",
            "\n",
            "📝 === Blog Summary for Category: Smart Speaker ===\n",
            "\n",
            "# Amazon Echo Plus w/ Built-In Hub - Silver\n",
            "\n",
            "Customers liked the convenience of controlling their smart home devices with voice commands, as well as the music streaming and information provided by Alexa. The smart hub feature was also appreciated for its ability to work with lights and plugs. However, some users reported occasional issues with the Echo not working properly.\n",
            "\n",
            "**Pros**\n",
            "- Convenient smart home control\n",
            "- Music streaming and information provided by Alexa\n",
            "\n",
            "**Cons**\n",
            "- Occasional issues with the Echo not working properly\n",
            "\n",
            "# Amazon Echo Show Alexa-enabled Bluetooth Speaker with 7\" Screen\n",
            "\n",
            "Customers enjoyed the HD video capabilities and the ability to make video calls. The device was praised for its design, sound quality, and entertainment value. However, some users mentioned that the novelty of the device wore off after a few weeks.\n",
            "\n",
            "**Pros**\n",
            "- HD video capabilities\n",
            "- Video calls and entertainment options\n",
            "\n",
            "**Cons**\n",
            "- Novelty wore off after a few weeks\n",
            "\n",
            "# Amazon Tap Smart Assistant Alexaenabled (black) Brand New\n",
            "\n",
            "Users appreciated the hands-free \"Hey Alexa\" commands and the portability of the device. The sound quality was also praised, along with the long-lasting battery life. Some users mentioned that the device could be more responsive to certain commands.\n",
            "\n",
            "**Pros**\n",
            "- Hands-free commands\n",
            "- Portability and sound quality\n",
            "\n",
            "**Cons**\n",
            "- Issues with responsiveness to certain commands\n",
            "\n",
            "## Worst Product: Amazon Tap - Alexa-Enabled Portable Bluetooth Speaker\n",
            "\n",
            "The Amazon Tap received lower ratings due to reported issues with sound quality and Bluetooth connectivity. Users mentioned that the device would lose Bluetooth connection frequently, regardless of the phone used. Some users also found the device to be less informative and useful compared to other Amazon smart speakers.\n",
            "\n",
            "Readers should consider avoiding the Amazon Tap if they prioritize sound quality and reliable Bluetooth connectivity in a smart speaker. Additionally, the device's lack of responsiveness to commands and intermittent Bluetooth connection issues may impact the overall user experience negatively.\n",
            "\n",
            "📝 === Blog Summary for Category: Tablet ===\n",
            "\n",
            "# All-New Fire HD 8 Kids Edition Tablet\n",
            "\n",
            "Customers liked that this tablet was specifically designed for kids, with parental controls and age-appropriate content. They also appreciated the 2-year, no questions asked warranty from Amazon. The tablet's size, stereo speakers, and memory capacity were also praised.\n",
            "\n",
            "- **Pros**\n",
            "  - Kid-friendly design with parental controls\n",
            "  - 2-year warranty from Amazon\n",
            "\n",
            "- **Cons**\n",
            "  - Some customers found the lack of Alexa a downside\n",
            "  - Limited to Amazon ecosystem\n",
            "\n",
            "# Amazon Fire HD 8 with Alexa\n",
            "\n",
            "Customers enjoyed the affordability and performance of this tablet, especially after adding additional memory for music and books. The ability to easily install Google Playstore for more app options was a highlight. The display quality, graphics, and user-friendly interface were also well-received.\n",
            "\n",
            "- **Pros**\n",
            "  - Affordable pricing\n",
            "  - Ability to install Google Playstore for more apps\n",
            "\n",
            "- **Cons**\n",
            "  - Some features limited to Amazon Prime members\n",
            "  - Limited app selection\n",
            "\n",
            "# All-New Fire HD 8 Tablet with Alexa\n",
            "\n",
            "Customers were impressed with the HD display, battery life, and user-friendly interface of this tablet. Many found it to be a great purchase for kids, with durable construction and easy setup. The vibrant display and long battery life were standout features, along with the overall performance.\n",
            "\n",
            "- **Pros**\n",
            "  - HD display and long battery life\n",
            "  - User-friendly interface\n",
            "\n",
            "- **Cons**\n",
            "  - Limited app selection\n",
            "  - Some customers experienced charging issues\n",
            "\n",
            "## Worst Product: Brand New Amazon Kindle Fire 16gb 7\" Ips Display Tablet Wifi 16 Gb Blue\n",
            "\n",
            "This tablet received lower ratings due to its limited app selection and proprietary nature, making it difficult for users to access certain apps. Some customers also mentioned issues with battery life and connectivity. While the tablet may be affordable, the lack of versatility and user-friendly features make it less appealing compared to other Amazon tablet options.\n",
            "\n",
            "Overall, users complained about the limited app selection, proprietary restrictions, and short battery life of the tablet. Readers should consider avoiding this product if they are looking for a more versatile and user-friendly tablet option.\n"
          ]
        }
      ]
    },
    {
      "cell_type": "code",
      "source": [
        "import os\n",
        "\n",
        "# Create a folder to store outputs\n",
        "output_dir = \"/content/drive/MyDrive/reviews-project/product_articles\"\n",
        "os.makedirs(output_dir, exist_ok=True)\n",
        "\n",
        "for summary in all_summaries:\n",
        "    category = summary[\"category\"]\n",
        "    article = summary[\"article\"]\n",
        "\n",
        "    # Clean file name (e.g., no slashes/spaces)\n",
        "    safe_filename = category.lower().replace(\" \", \"_\").replace(\"/\", \"-\")\n",
        "\n",
        "    # Choose file extension\n",
        "    file_path = os.path.join(output_dir, f\"{safe_filename}.md\")  # or .txt if preferred\n",
        "\n",
        "    with open(file_path, \"w\", encoding=\"utf-8\") as f:\n",
        "        f.write(f\"# Product Review Summary: {category}\\n\\n\")\n",
        "        f.write(article)\n",
        "\n",
        "    print(f\"✅ Saved: {file_path}\")\n"
      ],
      "metadata": {
        "colab": {
          "base_uri": "https://localhost:8080/"
        },
        "id": "TynGH01XZuPu",
        "outputId": "5fea4306-f44a-42c8-c6c6-d9fc7b4b4ff2"
      },
      "execution_count": 46,
      "outputs": [
        {
          "output_type": "stream",
          "name": "stdout",
          "text": [
            "✅ Saved: /content/drive/MyDrive/reviews-project/product_articles/e-reader.md\n",
            "✅ Saved: /content/drive/MyDrive/reviews-project/product_articles/smart_speaker.md\n",
            "✅ Saved: /content/drive/MyDrive/reviews-project/product_articles/tablet.md\n"
          ]
        }
      ]
    }
  ]
}